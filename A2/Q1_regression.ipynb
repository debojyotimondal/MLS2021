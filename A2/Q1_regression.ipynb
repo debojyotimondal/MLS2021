{
 "cells": [
  {
   "cell_type": "code",
   "execution_count": 15,
   "metadata": {},
   "outputs": [],
   "source": [
    "# import necessary modules\n",
    "import numpy as np\n",
    "import matplotlib.pyplot as plt\n",
    "import pandas as pd\n",
    "import house_sales_data as hsd\n",
    "from sklearn.model_selection import train_test_split"
   ]
  },
  {
   "cell_type": "code",
   "execution_count": 6,
   "metadata": {},
   "outputs": [
    {
     "name": "stdout",
     "output_type": "stream",
     "text": [
      "dict_keys(['price', 'area', 'beds', 'baths', 'condo', 'location'])\n"
     ]
    }
   ],
   "source": [
    "## Sacramento house price data; load\n",
    "data = hsd.house_sales_data()\n",
    "price = data[\"price\"]\n",
    "beds = data[\"beds\"]\n",
    "area = data[\"area\"]\n",
    "print(data.keys())\n",
    "\n",
    "## Get the target (i.e., price) and two features\n",
    "# price = ...\n",
    "# area = ...\n",
    "# beds = ..."
   ]
  },
  {
   "cell_type": "code",
   "execution_count": 24,
   "metadata": {},
   "outputs": [],
   "source": [
    "# Implement gradient descent (NOT SGD, just simple GD!)\n",
    "def gradient_descent(X, y, iters, alpha=1.0):\n",
    "    m, n = X.shape\n",
    "    theta = np.zeros(n)\n",
    "    errs = np.zeros(iters)\n",
    "\n",
    "    for t in range(iters):\n",
    "        grad = np.zeros(n)\n",
    "        for i in range(m):\n",
    "            yhat = X[i] @ theta\n",
    "            errs[t] += 1/m * (yhat - y[i])**2\n",
    "            for j in range(n):\n",
    "                grad[j] += 1/m * 2 * (yhat - y[i])*X[i,j]\n",
    "        theta -= alpha * grad\n",
    "    return theta, errs\n",
    "X = np.array([area, beds, np.ones(area.shape[0])]).T\n",
    "y = price\n",
    "ranges = normalize_data(X, y, [True, True, False])"
   ]
  },
  {
   "cell_type": "code",
   "execution_count": 26,
   "metadata": {},
   "outputs": [],
   "source": [
    "def normalize_data(X, y, normalize_cols):\n",
    "    min_X = X[:,normalize_cols].min(axis=0)\n",
    "    max_X = X[:,normalize_cols].max(axis=0)\n",
    "    min_y = y.min()\n",
    "    max_y = y.max()\n",
    "    X[:,normalize_cols] = (X[:,normalize_cols] - min_X) / (max_X - min_X)\n",
    "    y[:] = (y - min_y) / (max_y - min_y)\n",
    "    return min_X, max_X, min_y, max_y\n"
   ]
  },
  {
   "cell_type": "code",
   "execution_count": null,
   "metadata": {},
   "outputs": [],
   "source": []
  },
  {
   "cell_type": "code",
   "execution_count": null,
   "metadata": {},
   "outputs": [],
   "source": []
  },
  {
   "cell_type": "code",
   "execution_count": 42,
   "metadata": {},
   "outputs": [],
   "source": [
    "# Implement an evaluation metric for regression\n",
    "\n",
    "def A(X, theta):\n",
    "    return X@theta\n",
    "def E(theta,X,y):\n",
    "    return np.mean(np.square(A(X,theta)-y))"
   ]
  },
  {
   "cell_type": "code",
   "execution_count": null,
   "metadata": {},
   "outputs": [],
   "source": []
  },
  {
   "cell_type": "code",
   "execution_count": 44,
   "metadata": {},
   "outputs": [],
   "source": [
    "theta,cost=gradient_descent(X, y, 500, 0.1)"
   ]
  },
  {
   "cell_type": "code",
   "execution_count": 45,
   "metadata": {},
   "outputs": [
    {
     "data": {
      "text/plain": [
       "0.014339235247886856"
      ]
     },
     "execution_count": 45,
     "metadata": {},
     "output_type": "execute_result"
    }
   ],
   "source": [
    "E(theta,X,y)"
   ]
  },
  {
   "cell_type": "code",
   "execution_count": 40,
   "metadata": {},
   "outputs": [],
   "source": [
    "# Prepare data this way\n",
    "X_train = np.hstack((area[:,np.newaxis], beds[:,np.newaxis], np.ones(area.shape[0])[:,np.newaxis]))\n",
    "y_train = price\n",
    "min_X, max_X, min_y, max_y = normalize_data(X_train, y_train, [True, True, False])\n",
    "X_train, X_test, y_train, y_test = train_test_split(X, y, test_size=0.2, random_state=42)"
   ]
  },
  {
   "cell_type": "code",
   "execution_count": null,
   "metadata": {},
   "outputs": [],
   "source": []
  },
  {
   "cell_type": "code",
   "execution_count": 47,
   "metadata": {},
   "outputs": [
    {
     "data": {
      "text/plain": [
       "(array([0.64617435, 0.07955829, 0.05428574]),\n",
       " array([0.10325909, 0.06845834, 0.04921421, 0.03854616, 0.03260631,\n",
       "        0.02927359, 0.0273788 , 0.02627744, 0.02561422, 0.02519329,\n",
       "        0.02490668, 0.02469486, 0.02452501, 0.02437902, 0.0242469 ,\n",
       "        0.02412314, 0.02400468, 0.02388984, 0.02377766, 0.02366762,\n",
       "        0.02355942, 0.02345287, 0.02334789, 0.02324438, 0.02314232,\n",
       "        0.02304166, 0.02294238, 0.02284445, 0.02274785, 0.02265256,\n",
       "        0.02255855, 0.02246582, 0.02237434, 0.0222841 , 0.02219506,\n",
       "        0.02210723, 0.02202058, 0.02193508, 0.02185074, 0.02176752,\n",
       "        0.02168542, 0.02160441, 0.02152448, 0.02144562, 0.02136781,\n",
       "        0.02129103, 0.02121527, 0.02114051, 0.02106674, 0.02099395,\n",
       "        0.02092212, 0.02085124, 0.02078128, 0.02071225, 0.02064413,\n",
       "        0.0205769 , 0.02051055, 0.02044506, 0.02038044, 0.02031665,\n",
       "        0.0202537 , 0.02019156, 0.02013023, 0.02006969, 0.02000994,\n",
       "        0.01995096, 0.01989275, 0.01983528, 0.01977855, 0.01972255,\n",
       "        0.01966727, 0.01961269, 0.01955881, 0.01950562, 0.01945311,\n",
       "        0.01940127, 0.01935008, 0.01929954, 0.01924964, 0.01920038,\n",
       "        0.01915173, 0.0191037 , 0.01905627, 0.01900943, 0.01896318,\n",
       "        0.01891751, 0.01887241, 0.01882787, 0.01878388, 0.01874044,\n",
       "        0.01869753, 0.01865516, 0.01861331, 0.01857197, 0.01853115,\n",
       "        0.01849082, 0.01845098, 0.01841164, 0.01837277, 0.01833437,\n",
       "        0.01829644, 0.01825897, 0.01822195, 0.01818538, 0.01814925,\n",
       "        0.01811355, 0.01807828, 0.01804344, 0.018009  , 0.01797498,\n",
       "        0.01794136, 0.01790814, 0.01787531, 0.01784287, 0.01781081,\n",
       "        0.01777913, 0.01774782, 0.01771687, 0.01768629, 0.01765606,\n",
       "        0.01762618, 0.01759664, 0.01756745, 0.0175386 , 0.01751007,\n",
       "        0.01748187, 0.01745399, 0.01742644, 0.01739919, 0.01737225,\n",
       "        0.01734562, 0.01731929, 0.01729325, 0.01726751, 0.01724206,\n",
       "        0.01721688, 0.01719199, 0.01716738, 0.01714303, 0.01711896,\n",
       "        0.01709515, 0.0170716 , 0.01704831, 0.01702527, 0.01700249,\n",
       "        0.01697995, 0.01695765, 0.0169356 , 0.01691378, 0.0168922 ,\n",
       "        0.01687084, 0.01684972, 0.01682882, 0.01680814, 0.01678768,\n",
       "        0.01676743, 0.01674739, 0.01672757, 0.01670795, 0.01668854,\n",
       "        0.01666933, 0.01665031, 0.01663149, 0.01661287, 0.01659443,\n",
       "        0.01657618, 0.01655812, 0.01654024, 0.01652254, 0.01650502,\n",
       "        0.01648768, 0.0164705 , 0.0164535 , 0.01643667, 0.01642001,\n",
       "        0.0164035 , 0.01638716, 0.01637098, 0.01635496, 0.01633909,\n",
       "        0.01632338, 0.01630782, 0.01629241, 0.01627714, 0.01626203,\n",
       "        0.01624705, 0.01623222, 0.01621752, 0.01620297, 0.01618855,\n",
       "        0.01617427, 0.01616011, 0.01614609, 0.0161322 , 0.01611844,\n",
       "        0.0161048 , 0.01609129, 0.0160779 , 0.01606463, 0.01605148,\n",
       "        0.01603845, 0.01602554, 0.01601274, 0.01600005, 0.01598748,\n",
       "        0.01597502, 0.01596266, 0.01595042, 0.01593828, 0.01592624,\n",
       "        0.01591431, 0.01590249, 0.01589076, 0.01587914, 0.01586761,\n",
       "        0.01585618, 0.01584485, 0.01583361, 0.01582246, 0.01581141,\n",
       "        0.01580045, 0.01578958, 0.0157788 , 0.01576811, 0.01575751,\n",
       "        0.01574699, 0.01573655, 0.0157262 , 0.01571594, 0.01570575,\n",
       "        0.01569565, 0.01568563, 0.01567568, 0.01566581, 0.01565602,\n",
       "        0.01564631, 0.01563667, 0.01562711, 0.01561762, 0.0156082 ,\n",
       "        0.01559885, 0.01558958, 0.01558037, 0.01557124, 0.01556217,\n",
       "        0.01555317, 0.01554424, 0.01553537, 0.01552657, 0.01551783,\n",
       "        0.01550915, 0.01550054, 0.01549199, 0.01548351, 0.01547508,\n",
       "        0.01546671, 0.01545841, 0.01545016, 0.01544197, 0.01543383,\n",
       "        0.01542576, 0.01541774, 0.01540977, 0.01540186, 0.01539401,\n",
       "        0.0153862 , 0.01537846, 0.01537076, 0.01536311, 0.01535552,\n",
       "        0.01534798, 0.01534049, 0.01533304, 0.01532565, 0.0153183 ,\n",
       "        0.01531101, 0.01530376, 0.01529655, 0.0152894 , 0.01528229,\n",
       "        0.01527522, 0.0152682 , 0.01526122, 0.01525429, 0.0152474 ,\n",
       "        0.01524056, 0.01523376, 0.015227  , 0.01522028, 0.0152136 ,\n",
       "        0.01520696, 0.01520037, 0.01519381, 0.0151873 , 0.01518082,\n",
       "        0.01517438, 0.01516798, 0.01516162, 0.01515529, 0.01514901,\n",
       "        0.01514276, 0.01513654, 0.01513037, 0.01512422, 0.01511812,\n",
       "        0.01511205, 0.01510601, 0.01510001, 0.01509404, 0.0150881 ,\n",
       "        0.0150822 , 0.01507634, 0.0150705 , 0.0150647 , 0.01505893,\n",
       "        0.01505319, 0.01504748, 0.0150418 , 0.01503616, 0.01503054,\n",
       "        0.01502496, 0.0150194 , 0.01501388, 0.01500838, 0.01500292,\n",
       "        0.01499748, 0.01499207, 0.01498669, 0.01498134, 0.01497602,\n",
       "        0.01497072, 0.01496545, 0.01496021, 0.014955  , 0.01494981,\n",
       "        0.01494465, 0.01493951, 0.0149344 , 0.01492932, 0.01492426,\n",
       "        0.01491923, 0.01491422, 0.01490924, 0.01490428, 0.01489935,\n",
       "        0.01489444, 0.01488955, 0.01488469, 0.01487985, 0.01487504,\n",
       "        0.01487024, 0.01486548, 0.01486073, 0.01485601, 0.01485131,\n",
       "        0.01484663, 0.01484197, 0.01483734, 0.01483272, 0.01482813,\n",
       "        0.01482356, 0.01481902, 0.01481449, 0.01480998, 0.0148055 ,\n",
       "        0.01480103, 0.01479659, 0.01479216, 0.01478776, 0.01478337,\n",
       "        0.01477901, 0.01477466, 0.01477034, 0.01476603, 0.01476175,\n",
       "        0.01475748, 0.01475323, 0.014749  , 0.01474479, 0.01474059,\n",
       "        0.01473642, 0.01473226, 0.01472812, 0.014724  , 0.0147199 ,\n",
       "        0.01471582, 0.01471175, 0.0147077 , 0.01470366, 0.01469965,\n",
       "        0.01469565, 0.01469167, 0.0146877 , 0.01468376, 0.01467983,\n",
       "        0.01467591, 0.01467201, 0.01466813, 0.01466426, 0.01466041,\n",
       "        0.01465658, 0.01465276, 0.01464896, 0.01464517, 0.0146414 ,\n",
       "        0.01463764, 0.0146339 , 0.01463018, 0.01462647, 0.01462277,\n",
       "        0.01461909, 0.01461543, 0.01461178, 0.01460814, 0.01460452,\n",
       "        0.01460091, 0.01459732, 0.01459374, 0.01459017, 0.01458662,\n",
       "        0.01458309, 0.01457957, 0.01457606, 0.01457256, 0.01456908,\n",
       "        0.01456561, 0.01456216, 0.01455872, 0.01455529, 0.01455188,\n",
       "        0.01454848, 0.01454509, 0.01454171, 0.01453835, 0.014535  ,\n",
       "        0.01453167, 0.01452834, 0.01452503, 0.01452173, 0.01451845,\n",
       "        0.01451518, 0.01451192, 0.01450867, 0.01450543, 0.01450221,\n",
       "        0.01449899, 0.01449579, 0.01449261, 0.01448943, 0.01448627,\n",
       "        0.01448311, 0.01447997, 0.01447684, 0.01447373, 0.01447062,\n",
       "        0.01446753, 0.01446444, 0.01446137, 0.01445831, 0.01445526,\n",
       "        0.01445222, 0.0144492 , 0.01444618, 0.01444318, 0.01444018,\n",
       "        0.0144372 , 0.01443423, 0.01443126, 0.01442831, 0.01442537,\n",
       "        0.01442244, 0.01441952, 0.01441662, 0.01441372, 0.01441083,\n",
       "        0.01440795, 0.01440509, 0.01440223, 0.01439938, 0.01439655,\n",
       "        0.01439372, 0.0143909 , 0.0143881 , 0.0143853 , 0.01438251,\n",
       "        0.01437974, 0.01437697, 0.01437421, 0.01437146, 0.01436873,\n",
       "        0.014366  , 0.01436328, 0.01436057, 0.01435787, 0.01435518,\n",
       "        0.0143525 , 0.01434983, 0.01434717, 0.01434451, 0.01434187]))"
      ]
     },
     "execution_count": 47,
     "metadata": {},
     "output_type": "execute_result"
    }
   ],
   "source": [
    "# call gradient descent and fine-tune your learning rate\n",
    "gradient_descent(X, y, 500, 0.1)"
   ]
  },
  {
   "cell_type": "code",
   "execution_count": 41,
   "metadata": {},
   "outputs": [
    {
     "data": {
      "text/plain": [
       "[<matplotlib.lines.Line2D at 0x7f639dae4880>]"
      ]
     },
     "execution_count": 41,
     "metadata": {},
     "output_type": "execute_result"
    },
    {
     "data": {
      "image/png": "[encoded data removed]",
      "text/plain": [
       "<Figure size 432x288 with 1 Axes>"
      ]
     },
     "metadata": {
      "needs_background": "light"
     },
     "output_type": "display_data"
    }
   ],
   "source": [
    "# plot cost vs iterations \n",
    "# note gradient descent return costs for all iterations\n",
    "plt.plot(cost)"
   ]
  },
  {
   "cell_type": "code",
   "execution_count": null,
   "metadata": {},
   "outputs": [],
   "source": [
    "# print evaluation metric for test set while \n",
    "# changing max_iteration from 500 to 2000\n",
    "# Note the best value of evaluation metric you get"
   ]
  },
  {
   "cell_type": "code",
   "execution_count": 50,
   "metadata": {},
   "outputs": [],
   "source": [
    "l=[]\n",
    "for i in np.arange(500,2001,100):\n",
    "    theta,cost=gradient_descent(X, y, i, 0.1)\n",
    "    l1=E(theta,X,y)\n",
    "    l.append(l1)\n",
    "\n",
    "    \n",
    "    "
   ]
  },
  {
   "cell_type": "code",
   "execution_count": 52,
   "metadata": {},
   "outputs": [
    {
     "data": {
      "text/plain": [
       "[<matplotlib.lines.Line2D at 0x7f639da5f490>]"
      ]
     },
     "execution_count": 52,
     "metadata": {},
     "output_type": "execute_result"
    },
    {
     "data": {
      "image/png": "[encoded data removed]",
      "text/plain": [
       "<Figure size 432x288 with 1 Axes>"
      ]
     },
     "metadata": {
      "needs_background": "light"
     },
     "output_type": "display_data"
    }
   ],
   "source": [
    "plt.plot(l)"
   ]
  },
  {
   "cell_type": "code",
   "execution_count": 62,
   "metadata": {},
   "outputs": [],
   "source": [
    "# compare your solution with scikit-learn library\n",
    "X = np.array([area, beds]).T\n",
    "y = price\n",
    "from sklearn import datasets, linear_model\n",
    "from sklearn.linear_model import LinearRegression\n"
   ]
  },
  {
   "cell_type": "code",
   "execution_count": 68,
   "metadata": {},
   "outputs": [
    {
     "data": {
      "text/plain": [
       "LinearRegression()"
      ]
     },
     "execution_count": 68,
     "metadata": {},
     "output_type": "execute_result"
    }
   ],
   "source": [
    "# Create linear regression object\n",
    "regressor = LinearRegression()\n",
    "regressor.fit(X_train, y_train)"
   ]
  },
  {
   "cell_type": "code",
   "execution_count": 69,
   "metadata": {},
   "outputs": [
    {
     "data": {
      "text/plain": [
       "array([0.33279794, 0.19847744, 0.46143228, 0.28216527, 0.26391927,\n",
       "       0.13461642, 0.47808176, 0.16222921, 0.56476599, 0.18912636,\n",
       "       0.25253123, 0.13416027, 0.21603922, 0.36291956, 0.2372502 ,\n",
       "       0.24318015, 0.21079349, 0.35216861, 0.19461587, 0.25890162,\n",
       "       0.14784477, 0.40420115, 0.28674249, 0.40006437, 0.23040795,\n",
       "       0.20851274, 0.43701253, 0.24477667, 0.27305798, 0.25411204,\n",
       "       0.19368786, 0.26141044, 0.14693247, 0.32619947, 0.17840683,\n",
       "       0.31820113, 0.25618043, 0.38297445, 0.17110843, 0.24590134,\n",
       "       0.15444324, 0.41034346, 0.25435583, 0.13736903, 0.47899406,\n",
       "       0.29837432, 0.3360067 , 0.33576291, 0.26142615, 0.19187897,\n",
       "       0.20668814, 0.18935443, 0.28423366, 0.35014736, 0.30546035,\n",
       "       0.42240002, 0.43132637, 0.15537125, 0.13966549, 0.26165423,\n",
       "       0.15651162, 0.23840628, 0.26802462, 0.17658223, 0.47262367,\n",
       "       0.1503536 , 0.16268536, 0.18000336, 0.51160879, 0.41446452,\n",
       "       0.14626396, 0.38732359, 0.32072567, 0.24296779, 0.33188564,\n",
       "       0.1904791 , 0.14717626, 0.29791817, 0.25730509, 0.23953095,\n",
       "       0.23176068, 0.4584673 , 0.59052276, 0.48492401, 0.34237709,\n",
       "       0.15903616, 0.22539029, 0.19461587, 0.21010926, 0.52643367,\n",
       "       0.5013297 , 0.22493414, 0.25297167, 0.52550566, 0.25639279,\n",
       "       0.131211  , 0.18342448, 0.15170634, 0.19596861, 0.23496945,\n",
       "       0.24684506, 0.35925465, 0.19733706, 0.2582331 , 0.24342394,\n",
       "       0.18228411, 0.22723061, 0.16996805, 0.31116223, 0.27691955,\n",
       "       0.24135555, 0.20509161, 0.40853457, 0.30954999, 0.40008008,\n",
       "       0.14737291, 0.16745923, 0.16472233, 0.25297167, 0.38274638,\n",
       "       0.68128093, 0.1649504 , 0.33258558, 0.39323783, 0.31249926,\n",
       "       0.26758418, 0.1822684 , 0.22812719, 0.2317764 , 0.16723115,\n",
       "       0.18251218, 0.13349175, 0.21672344, 0.40485395, 0.20417931,\n",
       "       0.22493414, 0.35402463, 0.12298459, 0.42151914, 0.6559646 ,\n",
       "       0.16198543, 0.14373942, 0.20944075, 0.59076655, 0.19846173,\n",
       "       0.13805326, 0.32185034, 0.17840683, 0.21330232, 0.15537125,\n",
       "       0.24682935, 0.32070996, 0.21923227, 0.1257372 , 0.13257945])"
      ]
     },
     "execution_count": 69,
     "metadata": {},
     "output_type": "execute_result"
    }
   ],
   "source": [
    "regressor.predict(X_test)"
   ]
  },
  {
   "cell_type": "code",
   "execution_count": 71,
   "metadata": {},
   "outputs": [
    {
     "name": "stdout",
     "output_type": "stream",
     "text": [
      "[ 0.85847455 -0.12666022  0.        ]\n"
     ]
    }
   ],
   "source": [
    "print(regressor.coef_)"
   ]
  },
  {
   "cell_type": "code",
   "execution_count": 73,
   "metadata": {},
   "outputs": [
    {
     "data": {
      "text/plain": [
       "0.019401272082740128"
      ]
     },
     "execution_count": 73,
     "metadata": {},
     "output_type": "execute_result"
    }
   ],
   "source": [
    "E(regressor.coef_,X_test,y_test)"
   ]
  },
  {
   "cell_type": "code",
   "execution_count": null,
   "metadata": {},
   "outputs": [],
   "source": [
    "# Train the model using the training sets"
   ]
  },
  {
   "cell_type": "code",
   "execution_count": null,
   "metadata": {},
   "outputs": [],
   "source": [
    "# Predict on test set and print evaluation metric\n",
    "# How much does it differ by from "
   ]
  }
 ],
 "metadata": {
  "kernelspec": {
   "display_name": "Python 3",
   "language": "python",
   "name": "python3"
  },
  "language_info": {
   "codemirror_mode": {
    "name": "ipython",
    "version": 3
   },
   "file_extension": ".py",
   "mimetype": "text/x-python",
   "name": "python",
   "nbconvert_exporter": "python",
   "pygments_lexer": "ipython3",
   "version": "3.8.5"
  }
 },
 "nbformat": 4,
 "nbformat_minor": 4
}
